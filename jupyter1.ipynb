{
 "cells": [
  {
   "cell_type": "code",
   "execution_count": 5,
   "id": "8c66425d-8733-4dd1-a681-c0ea98d745ec",
   "metadata": {},
   "outputs": [],
   "source": [
    "import boto3\n",
    "import pandas as pd\n",
    "from io import StringIO\n",
    "import os"
   ]
  },
  {
   "cell_type": "code",
   "execution_count": 6,
   "id": "d347f8bf-f4be-49d6-b612-ea7fdf6d8dc7",
   "metadata": {},
   "outputs": [],
   "source": [
    "AWS_S3_BUCKET = \"xetra-1234\"\n",
    "AWS_ACCESS_KEY_ID = os.getenv(\"AWS_ACCESS_KEY_ID\")\n",
    "AWS_SECRET_ACCESS_KEY = os.getenv(\"AWS_SECRET_ACCESS_KEY\")"
   ]
  },
  {
   "cell_type": "code",
   "execution_count": 7,
   "id": "0fa996ae-d5c9-4da3-b391-411f13ef049e",
   "metadata": {},
   "outputs": [],
   "source": [
    "s3 = boto3.resource('s3')\n",
    "bucket=s3.Bucket(AWS_S3_BUCKET)"
   ]
  },
  {
   "cell_type": "code",
   "execution_count": 26,
   "id": "eb08a82e-38eb-4d24-9f23-e351877492d6",
   "metadata": {},
   "outputs": [],
   "source": [
    "# for my_bucket_object in bucket.objects.all():\n",
    "#     if my_bucket_object.key.startswith('2022-01'):\n",
    "#         print(my_bucket_object.key)"
   ]
  },
  {
   "cell_type": "code",
   "execution_count": 8,
   "id": "b1f4a84b-7d9f-4315-8b19-76c37a705154",
   "metadata": {},
   "outputs": [
    {
     "data": {
      "text/plain": [
       "[s3.ObjectSummary(bucket_name='xetra-1234', key='2022-01-28/2022-01-28_BINS_XETR00.csv'),\n",
       " s3.ObjectSummary(bucket_name='xetra-1234', key='2022-01-28/2022-01-28_BINS_XETR01.csv'),\n",
       " s3.ObjectSummary(bucket_name='xetra-1234', key='2022-01-28/2022-01-28_BINS_XETR02.csv'),\n",
       " s3.ObjectSummary(bucket_name='xetra-1234', key='2022-01-28/2022-01-28_BINS_XETR03.csv'),\n",
       " s3.ObjectSummary(bucket_name='xetra-1234', key='2022-01-28/2022-01-28_BINS_XETR04.csv'),\n",
       " s3.ObjectSummary(bucket_name='xetra-1234', key='2022-01-28/2022-01-28_BINS_XETR05.csv'),\n",
       " s3.ObjectSummary(bucket_name='xetra-1234', key='2022-01-28/2022-01-28_BINS_XETR06.csv'),\n",
       " s3.ObjectSummary(bucket_name='xetra-1234', key='2022-01-28/2022-01-28_BINS_XETR07.csv'),\n",
       " s3.ObjectSummary(bucket_name='xetra-1234', key='2022-01-28/2022-01-28_BINS_XETR08.csv'),\n",
       " s3.ObjectSummary(bucket_name='xetra-1234', key='2022-01-28/2022-01-28_BINS_XETR09.csv'),\n",
       " s3.ObjectSummary(bucket_name='xetra-1234', key='2022-01-28/2022-01-28_BINS_XETR10.csv'),\n",
       " s3.ObjectSummary(bucket_name='xetra-1234', key='2022-01-28/2022-01-28_BINS_XETR11.csv'),\n",
       " s3.ObjectSummary(bucket_name='xetra-1234', key='2022-01-28/2022-01-28_BINS_XETR12.csv'),\n",
       " s3.ObjectSummary(bucket_name='xetra-1234', key='2022-01-28/2022-01-28_BINS_XETR13.csv'),\n",
       " s3.ObjectSummary(bucket_name='xetra-1234', key='2022-01-28/2022-01-28_BINS_XETR14.csv'),\n",
       " s3.ObjectSummary(bucket_name='xetra-1234', key='2022-01-28/2022-01-28_BINS_XETR15.csv'),\n",
       " s3.ObjectSummary(bucket_name='xetra-1234', key='2022-01-28/2022-01-28_BINS_XETR16.csv'),\n",
       " s3.ObjectSummary(bucket_name='xetra-1234', key='2022-01-28/2022-01-28_BINS_XETR17.csv'),\n",
       " s3.ObjectSummary(bucket_name='xetra-1234', key='2022-01-28/2022-01-28_BINS_XETR18.csv'),\n",
       " s3.ObjectSummary(bucket_name='xetra-1234', key='2022-01-28/2022-01-28_BINS_XETR19.csv'),\n",
       " s3.ObjectSummary(bucket_name='xetra-1234', key='2022-01-28/2022-01-28_BINS_XETR20.csv'),\n",
       " s3.ObjectSummary(bucket_name='xetra-1234', key='2022-01-28/2022-01-28_BINS_XETR21.csv'),\n",
       " s3.ObjectSummary(bucket_name='xetra-1234', key='2022-01-28/2022-01-28_BINS_XETR22.csv'),\n",
       " s3.ObjectSummary(bucket_name='xetra-1234', key='2022-01-28/2022-01-28_BINS_XETR23.csv')]"
      ]
     },
     "execution_count": 8,
     "metadata": {},
     "output_type": "execute_result"
    }
   ],
   "source": [
    "# bucket_obj = bucket.objects.filter(Prefix='2022-01-28/')\n",
    "# objects = [obj for obj in bucket_obj]\n",
    "# objects"
   ]
  },
  {
   "cell_type": "code",
   "execution_count": 28,
   "id": "e1c2880d-8c26-4304-98b0-bcb2e5678b05",
   "metadata": {},
   "outputs": [
    {
     "data": {
      "text/plain": [
       "[s3.ObjectSummary(bucket_name='xetra-1234', key='2022-03-15/2022-03-15_BINS_XETR00.csv'),\n",
       " s3.ObjectSummary(bucket_name='xetra-1234', key='2022-03-15/2022-03-15_BINS_XETR01.csv'),\n",
       " s3.ObjectSummary(bucket_name='xetra-1234', key='2022-03-15/2022-03-15_BINS_XETR02.csv'),\n",
       " s3.ObjectSummary(bucket_name='xetra-1234', key='2022-03-15/2022-03-15_BINS_XETR03.csv'),\n",
       " s3.ObjectSummary(bucket_name='xetra-1234', key='2022-03-15/2022-03-15_BINS_XETR04.csv'),\n",
       " s3.ObjectSummary(bucket_name='xetra-1234', key='2022-03-15/2022-03-15_BINS_XETR05.csv'),\n",
       " s3.ObjectSummary(bucket_name='xetra-1234', key='2022-03-15/2022-03-15_BINS_XETR06.csv'),\n",
       " s3.ObjectSummary(bucket_name='xetra-1234', key='2022-03-15/2022-03-15_BINS_XETR07.csv'),\n",
       " s3.ObjectSummary(bucket_name='xetra-1234', key='2022-03-15/2022-03-15_BINS_XETR08.csv'),\n",
       " s3.ObjectSummary(bucket_name='xetra-1234', key='2022-03-15/2022-03-15_BINS_XETR09.csv'),\n",
       " s3.ObjectSummary(bucket_name='xetra-1234', key='2022-03-15/2022-03-15_BINS_XETR10.csv'),\n",
       " s3.ObjectSummary(bucket_name='xetra-1234', key='2022-03-15/2022-03-15_BINS_XETR11.csv'),\n",
       " s3.ObjectSummary(bucket_name='xetra-1234', key='2022-03-15/2022-03-15_BINS_XETR12.csv'),\n",
       " s3.ObjectSummary(bucket_name='xetra-1234', key='2022-03-15/2022-03-15_BINS_XETR13.csv'),\n",
       " s3.ObjectSummary(bucket_name='xetra-1234', key='2022-03-15/2022-03-15_BINS_XETR14.csv'),\n",
       " s3.ObjectSummary(bucket_name='xetra-1234', key='2022-03-15/2022-03-15_BINS_XETR15.csv'),\n",
       " s3.ObjectSummary(bucket_name='xetra-1234', key='2022-03-15/2022-03-15_BINS_XETR16.csv'),\n",
       " s3.ObjectSummary(bucket_name='xetra-1234', key='2022-03-15/2022-03-15_BINS_XETR17.csv'),\n",
       " s3.ObjectSummary(bucket_name='xetra-1234', key='2022-03-15/2022-03-15_BINS_XETR18.csv'),\n",
       " s3.ObjectSummary(bucket_name='xetra-1234', key='2022-03-15/2022-03-15_BINS_XETR19.csv'),\n",
       " s3.ObjectSummary(bucket_name='xetra-1234', key='2022-03-15/2022-03-15_BINS_XETR20.csv'),\n",
       " s3.ObjectSummary(bucket_name='xetra-1234', key='2022-03-15/2022-03-15_BINS_XETR21.csv'),\n",
       " s3.ObjectSummary(bucket_name='xetra-1234', key='2022-03-15/2022-03-15_BINS_XETR22.csv'),\n",
       " s3.ObjectSummary(bucket_name='xetra-1234', key='2022-03-15/2022-03-15_BINS_XETR23.csv'),\n",
       " s3.ObjectSummary(bucket_name='xetra-1234', key='2022-03-16/2022-03-16_BINS_XETR00.csv'),\n",
       " s3.ObjectSummary(bucket_name='xetra-1234', key='2022-03-16/2022-03-16_BINS_XETR01.csv'),\n",
       " s3.ObjectSummary(bucket_name='xetra-1234', key='2022-03-16/2022-03-16_BINS_XETR02.csv'),\n",
       " s3.ObjectSummary(bucket_name='xetra-1234', key='2022-03-16/2022-03-16_BINS_XETR03.csv'),\n",
       " s3.ObjectSummary(bucket_name='xetra-1234', key='2022-03-16/2022-03-16_BINS_XETR04.csv'),\n",
       " s3.ObjectSummary(bucket_name='xetra-1234', key='2022-03-16/2022-03-16_BINS_XETR05.csv'),\n",
       " s3.ObjectSummary(bucket_name='xetra-1234', key='2022-03-16/2022-03-16_BINS_XETR06.csv'),\n",
       " s3.ObjectSummary(bucket_name='xetra-1234', key='2022-03-16/2022-03-16_BINS_XETR07.csv'),\n",
       " s3.ObjectSummary(bucket_name='xetra-1234', key='2022-03-16/2022-03-16_BINS_XETR08.csv'),\n",
       " s3.ObjectSummary(bucket_name='xetra-1234', key='2022-03-16/2022-03-16_BINS_XETR09.csv'),\n",
       " s3.ObjectSummary(bucket_name='xetra-1234', key='2022-03-16/2022-03-16_BINS_XETR10.csv'),\n",
       " s3.ObjectSummary(bucket_name='xetra-1234', key='2022-03-16/2022-03-16_BINS_XETR11.csv'),\n",
       " s3.ObjectSummary(bucket_name='xetra-1234', key='2022-03-16/2022-03-16_BINS_XETR12.csv'),\n",
       " s3.ObjectSummary(bucket_name='xetra-1234', key='2022-03-16/2022-03-16_BINS_XETR13.csv'),\n",
       " s3.ObjectSummary(bucket_name='xetra-1234', key='2022-03-16/2022-03-16_BINS_XETR14.csv'),\n",
       " s3.ObjectSummary(bucket_name='xetra-1234', key='2022-03-16/2022-03-16_BINS_XETR15.csv'),\n",
       " s3.ObjectSummary(bucket_name='xetra-1234', key='2022-03-16/2022-03-16_BINS_XETR16.csv'),\n",
       " s3.ObjectSummary(bucket_name='xetra-1234', key='2022-03-16/2022-03-16_BINS_XETR17.csv'),\n",
       " s3.ObjectSummary(bucket_name='xetra-1234', key='2022-03-16/2022-03-16_BINS_XETR18.csv'),\n",
       " s3.ObjectSummary(bucket_name='xetra-1234', key='2022-03-16/2022-03-16_BINS_XETR19.csv'),\n",
       " s3.ObjectSummary(bucket_name='xetra-1234', key='2022-03-16/2022-03-16_BINS_XETR20.csv'),\n",
       " s3.ObjectSummary(bucket_name='xetra-1234', key='2022-03-16/2022-03-16_BINS_XETR21.csv'),\n",
       " s3.ObjectSummary(bucket_name='xetra-1234', key='2022-03-16/2022-03-16_BINS_XETR22.csv'),\n",
       " s3.ObjectSummary(bucket_name='xetra-1234', key='2022-03-16/2022-03-16_BINS_XETR23.csv')]"
      ]
     },
     "execution_count": 28,
     "metadata": {},
     "output_type": "execute_result"
    }
   ],
   "source": [
    "bucket_obj1 = bucket.objects.filter(Prefix='2022-03-15/')\n",
    "bucket_obj2 = bucket.objects.filter(Prefix='2022-03-16/')\n",
    "objects = [obj for obj in bucket_obj1] + [obj for obj in bucket_obj2]\n",
    "objects"
   ]
  },
  {
   "cell_type": "code",
   "execution_count": 12,
   "id": "64ea9891-0d5e-41a3-87ee-994511f7e7d5",
   "metadata": {},
   "outputs": [
    {
     "name": "stdout",
     "output_type": "stream",
     "text": [
      "ISIN,Mnemonic,SecurityDesc,SecurityType,Currency,S\n"
     ]
    }
   ],
   "source": [
    "#for single file\n",
    "# csv_obj = bucket.Object(key='2022-01-28/2022-01-28_BINS_XETR12.csv').get().get('Body').read().decode('utf-8')\n",
    "# print(csv_obj)"
   ]
  },
  {
   "cell_type": "code",
   "execution_count": 30,
   "id": "9ef39acc-c6af-4c72-be53-7ad4b0d4c2bb",
   "metadata": {},
   "outputs": [],
   "source": [
    "csv_obj_init = bucket.Object(key=objects[0].key).get().get('Body').read().decode('utf-8')\n",
    "data = StringIO(csv_obj_init)\n",
    "df_init = pd.read_csv(data, delimiter=',')"
   ]
  },
  {
   "cell_type": "code",
   "execution_count": 31,
   "id": "873fafbb-3410-4a8a-ba50-43fe34501bb2",
   "metadata": {},
   "outputs": [
    {
     "data": {
      "text/plain": [
       "Index(['ISIN', 'Mnemonic', 'SecurityDesc', 'SecurityType', 'Currency',\n",
       "       'SecurityID', 'Date', 'Time', 'StartPrice', 'MaxPrice', 'MinPrice',\n",
       "       'EndPrice', 'TradedVolume', 'NumberOfTrades'],\n",
       "      dtype='object')"
      ]
     },
     "execution_count": 31,
     "metadata": {},
     "output_type": "execute_result"
    }
   ],
   "source": [
    "df_init.columns"
   ]
  },
  {
   "cell_type": "code",
   "execution_count": 38,
   "id": "7b1f7ced-f183-4c1e-857d-fe7b33f3b15e",
   "metadata": {},
   "outputs": [
    {
     "data": {
      "text/plain": [
       "'2.0.0'"
      ]
     },
     "execution_count": 38,
     "metadata": {},
     "output_type": "execute_result"
    }
   ],
   "source": [
    "pd. __version__"
   ]
  },
  {
   "cell_type": "code",
   "execution_count": 41,
   "id": "a37fbe4e-7771-40da-957c-45cc560a3196",
   "metadata": {},
   "outputs": [
    {
     "data": {
      "text/html": [
       "<div>\n",
       "<style scoped>\n",
       "    .dataframe tbody tr th:only-of-type {\n",
       "        vertical-align: middle;\n",
       "    }\n",
       "\n",
       "    .dataframe tbody tr th {\n",
       "        vertical-align: top;\n",
       "    }\n",
       "\n",
       "    .dataframe thead th {\n",
       "        text-align: right;\n",
       "    }\n",
       "</style>\n",
       "<table border=\"1\" class=\"dataframe\">\n",
       "  <thead>\n",
       "    <tr style=\"text-align: right;\">\n",
       "      <th></th>\n",
       "      <th>ISIN</th>\n",
       "      <th>Mnemonic</th>\n",
       "      <th>SecurityDesc</th>\n",
       "      <th>SecurityType</th>\n",
       "      <th>Currency</th>\n",
       "      <th>SecurityID</th>\n",
       "      <th>Date</th>\n",
       "      <th>Time</th>\n",
       "      <th>StartPrice</th>\n",
       "      <th>MaxPrice</th>\n",
       "      <th>MinPrice</th>\n",
       "      <th>EndPrice</th>\n",
       "      <th>TradedVolume</th>\n",
       "      <th>NumberOfTrades</th>\n",
       "    </tr>\n",
       "  </thead>\n",
       "  <tbody>\n",
       "    <tr>\n",
       "      <th>0</th>\n",
       "      <td>DE000A0DJ6J9</td>\n",
       "      <td>S92</td>\n",
       "      <td>SMA SOLAR TECHNOL.AG</td>\n",
       "      <td>Common stock</td>\n",
       "      <td>EUR</td>\n",
       "      <td>2504287</td>\n",
       "      <td>2022-03-15</td>\n",
       "      <td>08:00</td>\n",
       "      <td>37.34</td>\n",
       "      <td>37.76</td>\n",
       "      <td>37.30</td>\n",
       "      <td>37.50</td>\n",
       "      <td>11421</td>\n",
       "      <td>35</td>\n",
       "    </tr>\n",
       "    <tr>\n",
       "      <th>1</th>\n",
       "      <td>DE000A0D6554</td>\n",
       "      <td>NDX1</td>\n",
       "      <td>NORDEX SE O.N.</td>\n",
       "      <td>Common stock</td>\n",
       "      <td>EUR</td>\n",
       "      <td>2504290</td>\n",
       "      <td>2022-03-15</td>\n",
       "      <td>08:00</td>\n",
       "      <td>16.58</td>\n",
       "      <td>16.58</td>\n",
       "      <td>16.43</td>\n",
       "      <td>16.45</td>\n",
       "      <td>21537</td>\n",
       "      <td>37</td>\n",
       "    </tr>\n",
       "    <tr>\n",
       "      <th>2</th>\n",
       "      <td>DE000A0D9PT0</td>\n",
       "      <td>MTX</td>\n",
       "      <td>MTU AERO ENGINES NA O.N.</td>\n",
       "      <td>Common stock</td>\n",
       "      <td>EUR</td>\n",
       "      <td>2504297</td>\n",
       "      <td>2022-03-15</td>\n",
       "      <td>08:00</td>\n",
       "      <td>201.10</td>\n",
       "      <td>202.40</td>\n",
       "      <td>201.00</td>\n",
       "      <td>202.40</td>\n",
       "      <td>1585</td>\n",
       "      <td>29</td>\n",
       "    </tr>\n",
       "    <tr>\n",
       "      <th>3</th>\n",
       "      <td>DE000A0JL9W6</td>\n",
       "      <td>VBK</td>\n",
       "      <td>VERBIO VER.BIOENERGIE  ON</td>\n",
       "      <td>Common stock</td>\n",
       "      <td>EUR</td>\n",
       "      <td>2504343</td>\n",
       "      <td>2022-03-15</td>\n",
       "      <td>08:00</td>\n",
       "      <td>62.55</td>\n",
       "      <td>63.20</td>\n",
       "      <td>62.55</td>\n",
       "      <td>63.20</td>\n",
       "      <td>1539</td>\n",
       "      <td>8</td>\n",
       "    </tr>\n",
       "    <tr>\n",
       "      <th>4</th>\n",
       "      <td>DE000A0LD6E6</td>\n",
       "      <td>GXI</td>\n",
       "      <td>GERRESHEIMER AG</td>\n",
       "      <td>Common stock</td>\n",
       "      <td>EUR</td>\n",
       "      <td>2504380</td>\n",
       "      <td>2022-03-15</td>\n",
       "      <td>08:00</td>\n",
       "      <td>61.40</td>\n",
       "      <td>61.40</td>\n",
       "      <td>60.95</td>\n",
       "      <td>61.05</td>\n",
       "      <td>329</td>\n",
       "      <td>5</td>\n",
       "    </tr>\n",
       "  </tbody>\n",
       "</table>\n",
       "</div>"
      ],
      "text/plain": [
       "           ISIN Mnemonic               SecurityDesc  SecurityType Currency   \n",
       "0  DE000A0DJ6J9      S92       SMA SOLAR TECHNOL.AG  Common stock      EUR  \\\n",
       "1  DE000A0D6554     NDX1             NORDEX SE O.N.  Common stock      EUR   \n",
       "2  DE000A0D9PT0      MTX   MTU AERO ENGINES NA O.N.  Common stock      EUR   \n",
       "3  DE000A0JL9W6      VBK  VERBIO VER.BIOENERGIE  ON  Common stock      EUR   \n",
       "4  DE000A0LD6E6      GXI            GERRESHEIMER AG  Common stock      EUR   \n",
       "\n",
       "  SecurityID        Date   Time  StartPrice  MaxPrice  MinPrice  EndPrice   \n",
       "0    2504287  2022-03-15  08:00       37.34     37.76     37.30     37.50  \\\n",
       "1    2504290  2022-03-15  08:00       16.58     16.58     16.43     16.45   \n",
       "2    2504297  2022-03-15  08:00      201.10    202.40    201.00    202.40   \n",
       "3    2504343  2022-03-15  08:00       62.55     63.20     62.55     63.20   \n",
       "4    2504380  2022-03-15  08:00       61.40     61.40     60.95     61.05   \n",
       "\n",
       "  TradedVolume NumberOfTrades  \n",
       "0        11421             35  \n",
       "1        21537             37  \n",
       "2         1585             29  \n",
       "3         1539              8  \n",
       "4          329              5  "
      ]
     },
     "execution_count": 41,
     "metadata": {},
     "output_type": "execute_result"
    }
   ],
   "source": [
    "df_all = pd.DataFrame(columns=df_init.columns)\n",
    "for obj in objects:\n",
    "    csv_obj = bucket.Object(key=obj.key).get().get('Body').read().decode('utf-8')\n",
    "    data = StringIO(csv_obj)\n",
    "    df = pd.read_csv(data, delimiter=',')\n",
    "    df_all = pd.concat([df_all, df], ignore_index=True)\n",
    "    \n",
    "df_all.head()"
   ]
  },
  {
   "cell_type": "code",
   "execution_count": 42,
   "id": "d225e41f-a85d-49f5-994d-664a472a9009",
   "metadata": {},
   "outputs": [],
   "source": [
    "# data = StringIO(csv_obj)\n",
    "# df = pd.read_csv(data,delimiter=',')\n",
    "# df.head()"
   ]
  },
  {
   "cell_type": "code",
   "execution_count": 43,
   "id": "00c723eb-464d-4919-9b15-dd211e1d9011",
   "metadata": {},
   "outputs": [
    {
     "data": {
      "text/html": [
       "<div>\n",
       "<style scoped>\n",
       "    .dataframe tbody tr th:only-of-type {\n",
       "        vertical-align: middle;\n",
       "    }\n",
       "\n",
       "    .dataframe tbody tr th {\n",
       "        vertical-align: top;\n",
       "    }\n",
       "\n",
       "    .dataframe thead th {\n",
       "        text-align: right;\n",
       "    }\n",
       "</style>\n",
       "<table border=\"1\" class=\"dataframe\">\n",
       "  <thead>\n",
       "    <tr style=\"text-align: right;\">\n",
       "      <th></th>\n",
       "      <th>ISIN</th>\n",
       "      <th>Date</th>\n",
       "      <th>Time</th>\n",
       "      <th>StartPrice</th>\n",
       "      <th>MaxPrice</th>\n",
       "      <th>MinPrice</th>\n",
       "      <th>EndPrice</th>\n",
       "      <th>TradedVolume</th>\n",
       "    </tr>\n",
       "  </thead>\n",
       "  <tbody>\n",
       "    <tr>\n",
       "      <th>0</th>\n",
       "      <td>DE000A0DJ6J9</td>\n",
       "      <td>2022-03-15</td>\n",
       "      <td>08:00</td>\n",
       "      <td>37.34</td>\n",
       "      <td>37.76</td>\n",
       "      <td>37.30</td>\n",
       "      <td>37.50</td>\n",
       "      <td>11421</td>\n",
       "    </tr>\n",
       "    <tr>\n",
       "      <th>1</th>\n",
       "      <td>DE000A0D6554</td>\n",
       "      <td>2022-03-15</td>\n",
       "      <td>08:00</td>\n",
       "      <td>16.58</td>\n",
       "      <td>16.58</td>\n",
       "      <td>16.43</td>\n",
       "      <td>16.45</td>\n",
       "      <td>21537</td>\n",
       "    </tr>\n",
       "    <tr>\n",
       "      <th>2</th>\n",
       "      <td>DE000A0D9PT0</td>\n",
       "      <td>2022-03-15</td>\n",
       "      <td>08:00</td>\n",
       "      <td>201.10</td>\n",
       "      <td>202.40</td>\n",
       "      <td>201.00</td>\n",
       "      <td>202.40</td>\n",
       "      <td>1585</td>\n",
       "    </tr>\n",
       "    <tr>\n",
       "      <th>3</th>\n",
       "      <td>DE000A0JL9W6</td>\n",
       "      <td>2022-03-15</td>\n",
       "      <td>08:00</td>\n",
       "      <td>62.55</td>\n",
       "      <td>63.20</td>\n",
       "      <td>62.55</td>\n",
       "      <td>63.20</td>\n",
       "      <td>1539</td>\n",
       "    </tr>\n",
       "    <tr>\n",
       "      <th>4</th>\n",
       "      <td>DE000A0LD6E6</td>\n",
       "      <td>2022-03-15</td>\n",
       "      <td>08:00</td>\n",
       "      <td>61.40</td>\n",
       "      <td>61.40</td>\n",
       "      <td>60.95</td>\n",
       "      <td>61.05</td>\n",
       "      <td>329</td>\n",
       "    </tr>\n",
       "  </tbody>\n",
       "</table>\n",
       "</div>"
      ],
      "text/plain": [
       "           ISIN        Date   Time  StartPrice  MaxPrice  MinPrice  EndPrice   \n",
       "0  DE000A0DJ6J9  2022-03-15  08:00       37.34     37.76     37.30     37.50  \\\n",
       "1  DE000A0D6554  2022-03-15  08:00       16.58     16.58     16.43     16.45   \n",
       "2  DE000A0D9PT0  2022-03-15  08:00      201.10    202.40    201.00    202.40   \n",
       "3  DE000A0JL9W6  2022-03-15  08:00       62.55     63.20     62.55     63.20   \n",
       "4  DE000A0LD6E6  2022-03-15  08:00       61.40     61.40     60.95     61.05   \n",
       "\n",
       "  TradedVolume  \n",
       "0        11421  \n",
       "1        21537  \n",
       "2         1585  \n",
       "3         1539  \n",
       "4          329  "
      ]
     },
     "execution_count": 43,
     "metadata": {},
     "output_type": "execute_result"
    }
   ],
   "source": [
    "columns = ['ISIN','Date', 'Time', 'StartPrice', 'MaxPrice', 'MinPrice','EndPrice', 'TradedVolume']\n",
    "df_all = df_all.loc[:,columns]\n",
    "df_all.head()"
   ]
  },
  {
   "cell_type": "code",
   "execution_count": 44,
   "id": "70c3b916-e076-4b8d-a420-397ba944a0e0",
   "metadata": {},
   "outputs": [
    {
     "data": {
      "text/plain": [
       "(251802, 8)"
      ]
     },
     "execution_count": 44,
     "metadata": {},
     "output_type": "execute_result"
    }
   ],
   "source": [
    "df_all.shape"
   ]
  },
  {
   "cell_type": "code",
   "execution_count": 45,
   "id": "ed140ea6-d394-4790-b109-b60e7d2cc9a6",
   "metadata": {},
   "outputs": [],
   "source": [
    "df_all.dropna(inplace=True)"
   ]
  },
  {
   "cell_type": "code",
   "execution_count": 46,
   "id": "776b15c4-8cd2-4295-8c4e-7fab712bdd25",
   "metadata": {},
   "outputs": [
    {
     "data": {
      "text/plain": [
       "(251802, 8)"
      ]
     },
     "execution_count": 46,
     "metadata": {},
     "output_type": "execute_result"
    }
   ],
   "source": [
    "df_all.shape"
   ]
  },
  {
   "cell_type": "code",
   "execution_count": null,
   "id": "e377abdb-9f8f-476b-a7ae-cb418d79acc7",
   "metadata": {},
   "outputs": [],
   "source": []
  }
 ],
 "metadata": {
  "kernelspec": {
   "display_name": "xetra_project",
   "language": "python",
   "name": "xetra_project"
  },
  "language_info": {
   "codemirror_mode": {
    "name": "ipython",
    "version": 3
   },
   "file_extension": ".py",
   "mimetype": "text/x-python",
   "name": "python",
   "nbconvert_exporter": "python",
   "pygments_lexer": "ipython3",
   "version": "3.10.9"
  }
 },
 "nbformat": 4,
 "nbformat_minor": 5
}
